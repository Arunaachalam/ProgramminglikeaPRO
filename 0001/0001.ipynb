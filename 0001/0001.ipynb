{
 "cells": [
  {
   "cell_type": "markdown",
   "metadata": {},
   "source": [
    "# MY FIRST PIECE OF CODE"
   ]
  },
  {
   "cell_type": "markdown",
   "metadata": {},
   "source": [
    "Computers, though they are considered hi-tech and used everywhere are actually dumb. They can only **follow instructions** given to them and cannot think for themselves. A fully cognitive computer is a dream and is still in construction, but it will take a few decades. "
   ]
  },
  {
   "cell_type": "markdown",
   "metadata": {},
   "source": [
    "Like we communicate with other humans, we need a way to communicate with computers and that is through a *programming language*. There are a lot of different programming languages available and based on the application relevant programming language is chosen."
   ]
  },
  {
   "cell_type": "markdown",
   "metadata": {},
   "source": [
    "In this course, **Python3** is used as the programming language as it is simple for beginners and used widely. Python is an interpreted, high-level general-purpose programming language, which can be taken advantage of. The code is run line by line, so while initial learning pieces of codes can be written and executed to familiarize the programming environment.  "
   ]
  },
  {
   "cell_type": "markdown",
   "metadata": {},
   "source": [
    "### TASK 1 - Printing something"
   ]
  },
  {
   "cell_type": "markdown",
   "metadata": {},
   "source": [
    "The early versions of a computer are complex pieces of machinery without any monitors, developed to do massive mathematical calculations. *The modern computer today may look entirely different from their predecessors, but the basic component of a computer is to do the math.* "
   ]
  },
  {
   "cell_type": "markdown",
   "metadata": {},
   "source": [
    "Like any language spoken by humans which requires grammar to make an understandable sentence, programming languages also require syntaxes that the computers can understand. If the syntaxes are invalid, then the computers cannot understand your command and result in an error."
   ]
  },
  {
   "cell_type": "code",
   "execution_count": null,
   "metadata": {},
   "outputs": [],
   "source": [
    "print ('Hello, World!')"
   ]
  },
  {
   "cell_type": "markdown",
   "metadata": {},
   "source": [
    "Press **Ctrl+Enter** in the above line of code to execute the command"
   ]
  },
  {
   "cell_type": "markdown",
   "metadata": {},
   "source": [
    "As you can see the words are displayed at the bottom of the piece of code. **print** is the *statement followed by a bracket* **()** within which the stuff to be printed are given. Here the words and ! mark are to be displayed and they are written within the quotations ' '."
   ]
  },
  {
   "cell_type": "markdown",
   "metadata": {},
   "source": [
    "You can write multiple lines of print in the same code block"
   ]
  },
  {
   "cell_type": "code",
   "execution_count": null,
   "metadata": {},
   "outputs": [],
   "source": [
    "print ('Hello, World!')\n",
    "print ('Hello Again')\n",
    "print ('This is fun')"
   ]
  },
  {
   "cell_type": "markdown",
   "metadata": {},
   "source": [
    "Incase numbers are to be displayed, the numbers can be directly mentioned in the brackets."
   ]
  },
  {
   "cell_type": "code",
   "execution_count": null,
   "metadata": {},
   "outputs": [],
   "source": [
    "print (2)"
   ]
  },
  {
   "cell_type": "markdown",
   "metadata": {},
   "source": [
    "You can do math operations in a print statement. For example you have a math book which requires basic operations, they can be written as"
   ]
  },
  {
   "cell_type": "code",
   "execution_count": null,
   "metadata": {},
   "outputs": [],
   "source": [
    "print (2+3)"
   ]
  },
  {
   "cell_type": "code",
   "execution_count": null,
   "metadata": {},
   "outputs": [],
   "source": [
    "print (2*3)"
   ]
  },
  {
   "cell_type": "markdown",
   "metadata": {},
   "source": [
    "You can combine works and calculations in the same print statement. Make sure that the sentence and numbers are separated by a comma."
   ]
  },
  {
   "cell_type": "code",
   "execution_count": null,
   "metadata": {},
   "outputs": [],
   "source": [
    "print ('The result of four divided by two is: ', 4/2)"
   ]
  },
  {
   "cell_type": "code",
   "execution_count": null,
   "metadata": {},
   "outputs": [],
   "source": [
    "print ('I had three chocolates. Rahul asked me for one and I gave one to him. Now I have',3-1,'chocolates')"
   ]
  },
  {
   "cell_type": "markdown",
   "metadata": {},
   "source": [
    "Incase you want to clear the outputs and reset the codes, go to Kernel at top and select Restart Kernel and Clear all Outputs..."
   ]
  },
  {
   "cell_type": "markdown",
   "metadata": {},
   "source": [
    "# Assignment"
   ]
  },
  {
   "cell_type": "markdown",
   "metadata": {},
   "source": [
    "1. Print out your name and address with the print statement in the code section below. (You can use a dummy address)"
   ]
  },
  {
   "cell_type": "code",
   "execution_count": null,
   "metadata": {},
   "outputs": [],
   "source": []
  },
  {
   "cell_type": "markdown",
   "metadata": {},
   "source": [
    "2. Display the output of the math expression 3*2-1/3 in the code section below"
   ]
  },
  {
   "cell_type": "code",
   "execution_count": null,
   "metadata": {},
   "outputs": [],
   "source": []
  },
  {
   "cell_type": "markdown",
   "metadata": {},
   "source": [
    "3. Print out the name of your favourite sports player in the code section below\n",
    "**The result should look like -** My favourite Cricketer is M.S. Dhoni"
   ]
  },
  {
   "cell_type": "code",
   "execution_count": null,
   "metadata": {},
   "outputs": [],
   "source": []
  },
  {
   "cell_type": "markdown",
   "metadata": {},
   "source": [
    "4. Amit had 16 bars of Dairy Milk chocolate for his four friends. He gave Ria 3 bars, Martin 4 bars, Sekar 2 bars and Rashi 5 bars. Now how much bars of chocolate do each of them have? <br>\n",
    "\n",
    "**The result should look like:**<br>\n",
    "Ria has 3 bars of chocolate.<br>Martin has .....<br>Sekar has ......<br>Rashi has ......<br>Amit has ....."
   ]
  },
  {
   "cell_type": "code",
   "execution_count": null,
   "metadata": {},
   "outputs": [],
   "source": []
  },
  {
   "cell_type": "markdown",
   "metadata": {},
   "source": [
    "5. Print the result for the calculation 44*265.\n",
    "**The result should be like** - After calculating 44*265, the result is ------"
   ]
  },
  {
   "cell_type": "code",
   "execution_count": null,
   "metadata": {},
   "outputs": [],
   "source": []
  }
 ],
 "metadata": {
  "kernelspec": {
   "display_name": "Python 3",
   "language": "python",
   "name": "python3"
  },
  "language_info": {
   "codemirror_mode": {
    "name": "ipython",
    "version": 3
   },
   "file_extension": ".py",
   "mimetype": "text/x-python",
   "name": "python",
   "nbconvert_exporter": "python",
   "pygments_lexer": "ipython3",
   "version": "3.8.3"
  }
 },
 "nbformat": 4,
 "nbformat_minor": 4
}
