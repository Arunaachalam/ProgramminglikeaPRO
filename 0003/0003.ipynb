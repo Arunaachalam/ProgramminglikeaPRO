{
 "cells": [
  {
   "cell_type": "markdown",
   "metadata": {},
   "source": [
    "# VARIABLES, DATA TYPES, AND MATH"
   ]
  },
  {
   "cell_type": "markdown",
   "metadata": {},
   "source": [
    "Some of the important beginner-level concepts in programming are discussed in this section."
   ]
  },
  {
   "cell_type": "markdown",
   "metadata": {},
   "source": [
    "#### Comments"
   ]
  },
  {
   "cell_type": "markdown",
   "metadata": {},
   "source": [
    "While writing a computer code, simple or complex, it is necessary to make comments so that the programmer or other readers could get clarity when reviewing the code. In Python, the comments can be single-line or multi-line."
   ]
  },
  {
   "cell_type": "markdown",
   "metadata": {},
   "source": [
    "Single-line comments starts with '#'<br>\n",
    "Multi-line comments are written within a series of double quotes \"\"\"\"\"\"\n"
   ]
  },
  {
   "cell_type": "code",
   "execution_count": null,
   "metadata": {},
   "outputs": [],
   "source": [
    "print ('Hello, World!') #This is a single line comment\n",
    "\n",
    "\"\"\" \n",
    "Multiline comments are more common in massive programs\n",
    "Everything written here are comments for the reviewer\n",
    "and the program ignores them\n",
    "\"\"\"\n",
    "\n",
    "print ('Now you have learnt what comments are!!')"
   ]
  },
  {
   "cell_type": "markdown",
   "metadata": {},
   "source": [
    "#### Variable"
   ]
  },
  {
   "cell_type": "markdown",
   "metadata": {},
   "source": [
    "Variables are used to save values into memory using a name we assign. Often in programming, one number or a string are repeated continuously which can be assigned only once through a variable and used everywhere to reduce confusion."
   ]
  },
  {
   "cell_type": "markdown",
   "metadata": {},
   "source": [
    "**NOTE: Important naming convention for variables** \n",
    "1. Certain words are reserved in a programming language and cannot be used as variable name\n",
    "2. No special characters or spaces are allowed in a variable name\n",
    "3. Variable name should not start with a number\n",
    "4. Variables are case sensitive\n",
    "5. Two variable cannot have same variable name"
   ]
  },
  {
   "cell_type": "code",
   "execution_count": null,
   "metadata": {},
   "outputs": [],
   "source": [
    "a = 10                  # Variable 'a' is created\n",
    "\n",
    "myChocolate = 55        # Variable name my Chocolate is assigned number 55\n",
    "\n",
    "print(a, myChocolate)   # Variables can be called anywhere in program\n",
    "\n",
    "\"\"\"\n",
    "Variables are case sensitive. Created two variables mycase and myCase.\n",
    "The variables are different mycase != myCase\n",
    "\"\"\"\n",
    "mycase = 50             # Create new variable mycase\n",
    "myCase = 100            # Create new variable with upper case myCase\n",
    "\n",
    "# print statement\n",
    "print ('The variables are different.\\nmycase = ',mycase,'\\nmyCase = ',myCase)\n"
   ]
  },
  {
   "cell_type": "markdown",
   "metadata": {},
   "source": [
    "#### Data Types"
   ]
  },
  {
   "cell_type": "markdown",
   "metadata": {},
   "source": [
    "In Python, data types are automatically assigned and declaration of variable data type is not necessary. The four important data types in Python are:"
   ]
  },
  {
   "cell_type": "markdown",
   "metadata": {},
   "source": [
    "| Data Type | Description |\n",
    "| :- | :-: |\n",
    "| int | integers includes all numbers (positive and negative) |\n",
    "| float | floating points include numbers with decimal points and scientific notations |\n",
    "| string | string include all alphabets, special characters and 0-9 |\n",
    "| bool| booleans denote two states True or False |"
   ]
  },
  {
   "cell_type": "code",
   "execution_count": null,
   "metadata": {},
   "outputs": [],
   "source": [
    "intVar = 100                 # create a variable with integer datatype\n",
    "floatVar = 55.68             # create a variable with float datatype\n",
    "strVar = \"My String Here\"    # create a variable with string datatype\n",
    "boolVar = True               # create a variable with bool datatype\n",
    "\n",
    "\"\"\"\n",
    "We can check the datatypes of variable using the method type()\n",
    "Method call: type(Variable Name)\n",
    "Output: Returns data type of variable int, float, str or bool\n",
    "\"\"\"\n",
    "\n",
    "print('Type of intVar is: ',type(intVar))\n",
    "print('Type of floatVar is: ',type(floatVar))\n",
    "print('Type of strVar is: ',type(strVar))\n",
    "print('Type of boolVar is: ',type(boolVar))"
   ]
  },
  {
   "cell_type": "markdown",
   "metadata": {},
   "source": [
    "#### Math operators"
   ]
  },
  {
   "cell_type": "markdown",
   "metadata": {},
   "source": [
    "To perform mathematical functions, different operators are used in Python. The most important ones are given below"
   ]
  },
  {
   "cell_type": "markdown",
   "metadata": {},
   "source": [
    "| Operator | Description | Example |\n",
    "| :- | :- | :-: |\n",
    "| = | Assigns RHS to LHS(variable)| a=3, b=5 |\n",
    "| + | Addition of two or more numbers | a + b => 8 |\n",
    "| - | Subtraction of two or more numbers | a - b => -2 |\n",
    "| * | Multiply two or more numbers | a * b => 15 |\n",
    "| / | Divide two numbers | a / b => 0.6 |\n",
    "| % | Returns remainder of division | b % a => 2 |\n",
    "| // | Returns the quotient of division | b // a => 1 |\n",
    "| ** | Power of one number to another | b ** a => 125 |"
   ]
  },
  {
   "cell_type": "code",
   "execution_count": null,
   "metadata": {},
   "outputs": [],
   "source": [
    "# Assign two variables a and b\n",
    "a = 25 \n",
    "b = 7\n",
    "\n",
    "# print the math operations\n",
    "print ('a + b = ', a+b)        # Returns addition\n",
    "print( 'a - b = ', a-b)        # Returns subtraction\n",
    "print('a * b = ', a*b)         # Returns multiplication\n",
    "print('a / b = ', a/b)         # Returns division\n",
    "print('a % b = ', a%b)         # Returns remainder\n",
    "print('a // b = ', a//b)       # Returns quotient\n",
    "print('a ** b = ', a**b)       # Returns a to the power of b"
   ]
  },
  {
   "cell_type": "markdown",
   "metadata": {},
   "source": [
    "# Assignments"
   ]
  },
  {
   "cell_type": "markdown",
   "metadata": {},
   "source": [
    "1. Create a variable myShirt and assign any number. Print out the variable myShirt"
   ]
  },
  {
   "cell_type": "code",
   "execution_count": null,
   "metadata": {},
   "outputs": [],
   "source": []
  },
  {
   "cell_type": "markdown",
   "metadata": {},
   "source": [
    "2. A car travels 10 kilometer daily. If 1 kilometer = 1000 meters, write a program to print the distance traveled by car in meters"
   ]
  },
  {
   "cell_type": "code",
   "execution_count": null,
   "metadata": {},
   "outputs": [],
   "source": []
  },
  {
   "cell_type": "markdown",
   "metadata": {},
   "source": [
    "Alfred had 55 mangoes when he left his house. On the way he met Ravi and he gave 4 mangoes to him, after that he met Raj and gave him 11 mangoes. Then he met Yogi and both ate 5 mangoes each. Now how many mangoes do Alfred have? <br>\n",
    "\n",
    "*Create necessary variables for Alfred, Raj, Ravi and Yogi, calculate and print the result, add appropriate comments*"
   ]
  },
  {
   "cell_type": "code",
   "execution_count": null,
   "metadata": {},
   "outputs": [],
   "source": []
  }
 ],
 "metadata": {
  "kernelspec": {
   "display_name": "Python 3",
   "language": "python",
   "name": "python3"
  },
  "language_info": {
   "codemirror_mode": {
    "name": "ipython",
    "version": 3
   },
   "file_extension": ".py",
   "mimetype": "text/x-python",
   "name": "python",
   "nbconvert_exporter": "python",
   "pygments_lexer": "ipython3",
   "version": "3.8.3"
  }
 },
 "nbformat": 4,
 "nbformat_minor": 4
}
