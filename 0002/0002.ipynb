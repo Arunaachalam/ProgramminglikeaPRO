{
 "cells": [
  {
   "cell_type": "markdown",
   "metadata": {},
   "source": [
    "# MORE ON PRINTING"
   ]
  },
  {
   "cell_type": "markdown",
   "metadata": {},
   "source": [
    "Printing is one of the important part in writing a program. It allows a programmer to understand if the program works perfectly. When writing a complex program, print statements can be used to debug and identify critical and faulty code fragments."
   ]
  },
  {
   "cell_type": "markdown",
   "metadata": {},
   "source": [
    "The previous segment showed how to print out words, numbers and a combination of both. In this segment the escape sequences are discussed"
   ]
  },
  {
   "cell_type": "markdown",
   "metadata": {},
   "source": [
    "#### Escape sequences"
   ]
  },
  {
   "cell_type": "markdown",
   "metadata": {},
   "source": [
    "Escape sequences are a sequence of characters that does not represent itself when used inside a character or string literal, but is translated into another character or a sequence of characters that may be difficult or impossible to represent directly."
   ]
  },
  {
   "cell_type": "markdown",
   "metadata": {},
   "source": [
    "The common escape sequences used in Python are"
   ]
  },
  {
   "cell_type": "markdown",
   "metadata": {},
   "source": [
    "| Character | Sequence | Description |\n",
    "| :- | :- | :-: |\n",
    "| Newline | \\n | Begins a new line |\n",
    "| Backslash | \\\\\\ | Displays a backslash |\n",
    "| Single Quote| \\\\' | Displays a single quote |\n",
    "| Double Quote| \\\\\" | Displays a double quote |\n",
    "| Backspace | \\\\b | Cursor goes back on display|\n",
    "| Horizontal Tab| \\\\t | Puts a horizontal tab |\n",
    "| Vertical Tab | \\\\v | Puts a vertical tab |"
   ]
  },
  {
   "cell_type": "markdown",
   "metadata": {},
   "source": [
    "Using the print statement and escape sequences (newline, single quote, double quote, horizontal tab), one of the **quotes by Albert Einstein** is coded\n",
    "\n",
    "Execute the code below **ctrl+Enter**"
   ]
  },
  {
   "cell_type": "code",
   "execution_count": null,
   "metadata": {},
   "outputs": [],
   "source": [
    "print ('Albert Einstein is my favourite Scientist/Physist. He once told:\\n\\n\\t\\\"Two things are infinite:\\n\\tthe universe and human stupidity;')\n",
    "print ('\\t\\tand I\\'m not sure about the universe.\\\"')"
   ]
  },
  {
   "cell_type": "markdown",
   "metadata": {},
   "source": [
    "Using the print statement and escape sequences, a **table** can be displayed with Python\n",
    "\n",
    "Execute the code below **ctrl+Enter**"
   ]
  },
  {
   "cell_type": "code",
   "execution_count": null,
   "metadata": {},
   "outputs": [],
   "source": [
    "print ('Name\\t\\t|\\tNumber of Chocolate')\n",
    "print ('Avinash\\t\\t|\\t 66')\n",
    "print ('Akash\\t\\t|\\t 44')\n",
    "print ('Adharsh\\t\\t|\\t 74')\n",
    "print ('Sri Priya\\t|\\t 135')"
   ]
  },
  {
   "cell_type": "markdown",
   "metadata": {},
   "source": [
    "Incase you want to clear the outputs and reset the codes, go to Kernel at top and select Restart Kernel and Clear all Outputs..."
   ]
  },
  {
   "cell_type": "markdown",
   "metadata": {},
   "source": [
    "# Assignment"
   ]
  },
  {
   "cell_type": "markdown",
   "metadata": {},
   "source": [
    "1. With print statement and escape sequences print out the following lines\n",
    "\n",
    "When I try to use algorithm \"to calculate\" the result of '3*2': <br> \n",
    "I end up with some wrong result. &emsp; &emsp; And the interesting <br>\n",
    "\"thing\" is the answer is always $10."
   ]
  },
  {
   "cell_type": "code",
   "execution_count": null,
   "metadata": {},
   "outputs": [],
   "source": []
  },
  {
   "cell_type": "markdown",
   "metadata": {},
   "source": [
    "2. With print statement and escape sequences print out the following table"
   ]
  },
  {
   "cell_type": "markdown",
   "metadata": {},
   "source": [
    "| Student | Maths | Science | English | Tamil | Social Studies|\n",
    "| :- | :-: | :-: | :-:| :-: | :-: |\n",
    "|Markus | 79 | 65 | 88 | 73 | 55 |\n",
    "|Julie | 62 | 77 | 84 | 76 | 92 |\n",
    "|Fernandes | 55 | 88 | 91 | 73 | 76 |\n",
    "|Thomas | 68 | 87 | 65 | 65 | 86 |\n",
    "|Walter | 88 | 77 | 87 | 66 | 76 |\n",
    "|Andreas | 67 | 71 | 88 | 92 | 87 |"
   ]
  },
  {
   "cell_type": "code",
   "execution_count": null,
   "metadata": {},
   "outputs": [],
   "source": []
  }
 ],
 "metadata": {
  "kernelspec": {
   "display_name": "Python 3",
   "language": "python",
   "name": "python3"
  },
  "language_info": {
   "codemirror_mode": {
    "name": "ipython",
    "version": 3
   },
   "file_extension": ".py",
   "mimetype": "text/x-python",
   "name": "python",
   "nbconvert_exporter": "python",
   "pygments_lexer": "ipython3",
   "version": "3.8.3"
  }
 },
 "nbformat": 4,
 "nbformat_minor": 4
}
